{
  "nbformat": 4,
  "nbformat_minor": 0,
  "metadata": {
    "colab": {
      "provenance": [],
      "gpuType": "T4",
      "include_colab_link": true
    },
    "kernelspec": {
      "name": "python3",
      "display_name": "Python 3"
    },
    "language_info": {
      "name": "python"
    },
    "accelerator": "GPU"
  },
  "cells": [
    {
      "cell_type": "markdown",
      "metadata": {
        "id": "view-in-github",
        "colab_type": "text"
      },
      "source": [
        "<a href=\"https://colab.research.google.com/github/Lluhx/coursera-deep-learning-specialization/blob/master/%E2%80%9CEvolvePro_ipynb%E2%80%9D%E7%9A%84%E5%89%AF%E6%9C%AC.ipynb\" target=\"_parent\"><img src=\"https://colab.research.google.com/assets/colab-badge.svg\" alt=\"Open In Colab\"/></a>"
      ]
    },
    {
      "cell_type": "markdown",
      "source": [
        "## Setup:"
      ],
      "metadata": {
        "id": "z7U8tcMUo7ah"
      }
    },
    {
      "cell_type": "code",
      "source": [
        "!git clone https://github.com/mat10d/EvolvePro.git\n",
        "%cd EvolvePro/"
      ],
      "metadata": {
        "id": "eY0TYzM70-cE"
      },
      "execution_count": null,
      "outputs": []
    },
    {
      "cell_type": "code",
      "source": [
        "%%capture\n",
        "\n",
        "!pip install pandas numpy scikit-learn scikit-learn-extra xgboost matplotlib seaborn biopython scipy torch fair-esm\n",
        "!mkdir /content/output"
      ],
      "metadata": {
        "id": "o0GzdiOT0Inb"
      },
      "execution_count": null,
      "outputs": []
    },
    {
      "cell_type": "markdown",
      "source": [
        "## Process"
      ],
      "metadata": {
        "id": "MPYtN9W5o-UD"
      }
    },
    {
      "cell_type": "code",
      "source": [
        "from evolvepro.src.process import generate_wt, generate_single_aa_mutants\n",
        "generate_wt('MAKEDNIEMQGTVLETLPNTMFRVELENGHVVTAHISGKMRKNYIRILTGDKVTVELTPYDLSKGRIVFRSR', output_file='/content/output/kelsic_WT.fasta')\n",
        "generate_single_aa_mutants('/content/output/kelsic_WT.fasta', output_file='/content/output/kelsic.fasta')"
      ],
      "metadata": {
        "id": "xZVqxVCXftSE",
        "outputId": "0343673d-b293-436d-fd18-764c86e55a0f",
        "colab": {
          "base_uri": "https://localhost:8080/"
        }
      },
      "execution_count": null,
      "outputs": [
        {
          "output_type": "stream",
          "name": "stderr",
          "text": [
            "/content/EvolvePro/evolvepro/src/process.py:471: SyntaxWarning: invalid escape sequence '\\d'\n",
            "  \"(\\d+)([A-Z]+)\", expand=True\n"
          ]
        },
        {
          "output_type": "stream",
          "name": "stdout",
          "text": [
            "Number of mutants: 1369\n"
          ]
        }
      ]
    },
    {
      "cell_type": "code",
      "source": [
        "from evolvepro.src.process import suggest_initial_mutants\n",
        "suggest_initial_mutants('/content/output/kelsic.fasta', num_mutants=12, random_seed=42)"
      ],
      "metadata": {
        "id": "hhtBO0g2gu2R",
        "outputId": "ef61b7dd-9cae-4961-85b3-6014c4b30562",
        "colab": {
          "base_uri": "https://localhost:8080/"
        }
      },
      "execution_count": null,
      "outputs": [
        {
          "output_type": "stream",
          "name": "stdout",
          "text": [
            "\n",
            "Suggested 12 mutants for testing:\n",
            "1. R23K\n",
            "2. T58E\n",
            "3. I36D\n",
            "4. V31C\n",
            "5. I7A\n",
            "6. K3F\n",
            "7. Q10P\n",
            "8. G38E\n",
            "9. E4M\n",
            "10. D61W\n",
            "11. E4Y\n",
            "12. R23N\n"
          ]
        }
      ]
    },
    {
      "cell_type": "markdown",
      "source": [
        "## PLM"
      ],
      "metadata": {
        "id": "eXNaQq1IpBBV"
      }
    },
    {
      "cell_type": "code",
      "source": [
        "!python evolvepro/plm/esm/extract.py esm1b_t33_650M_UR50S /content/output/kelsic.fasta /content/output/kelsic_esm1b_t33_650M_UR50S --toks_per_batch 512 --include mean --concatenate_dir /content/output"
      ],
      "metadata": {
        "id": "ASOkwC-nlGkN",
        "outputId": "3a3d1203-a13b-4e29-850d-972fefe6607c",
        "colab": {
          "base_uri": "https://localhost:8080/"
        }
      },
      "execution_count": null,
      "outputs": [
        {
          "output_type": "stream",
          "name": "stdout",
          "text": [
            "Traceback (most recent call last):\n",
            "  File \"/content/EvolvePro/evolvepro/plm/esm/extract.py\", line 11, in <module>\n",
            "    import torch\n",
            "  File \"/usr/local/lib/python3.12/dist-packages/torch/__init__.py\", line 416, in <module>\n",
            "    from torch._C import *  # noqa: F403\n",
            "    ^^^^^^^^^^^^^^^^^^^^^^\n",
            "  File \"<frozen importlib._bootstrap>\", line 463, in _lock_unlock_module\n",
            "KeyboardInterrupt\n",
            "^C\n"
          ]
        }
      ]
    },
    {
      "cell_type": "markdown",
      "source": [
        "## Run EVOLVEpro"
      ],
      "metadata": {
        "id": "5cYm9CwunCUr"
      }
    },
    {
      "cell_type": "code",
      "source": [
        "from evolvepro.src.evolve import evolve_experimental\n",
        "\n",
        "protein_name = 'kelsic'\n",
        "embeddings_base_path = '/content/output'\n",
        "embeddings_file_name = 'kelsic_esm1b_t33_650M_UR50S.csv'\n",
        "round_base_path = '/content/EvolvePro/colab/rounds_data'\n",
        "wt_fasta_path = \"/content/output/kelsic_WT.fasta\"\n",
        "number_of_variants = 12\n",
        "output_dir = '/content/output/'\n",
        "rename_WT = False"
      ],
      "metadata": {
        "id": "UVmQ1CruxxQr"
      },
      "execution_count": null,
      "outputs": []
    },
    {
      "cell_type": "markdown",
      "source": [
        "#### Round 1"
      ],
      "metadata": {
        "id": "Mtt0jtAm1iw2"
      }
    },
    {
      "cell_type": "code",
      "source": [
        "round_name = 'Round1'\n",
        "round_file_names = ['kelsic_Round1.xlsx']\n",
        "\n",
        "this_round_variants, df_test, df_sorted_all = evolve_experimental(\n",
        "    protein_name,\n",
        "    round_name,\n",
        "    embeddings_base_path,\n",
        "    embeddings_file_name,\n",
        "    round_base_path,\n",
        "    round_file_names,\n",
        "    wt_fasta_path,\n",
        "    rename_WT,\n",
        "    number_of_variants,\n",
        "    output_dir\n",
        ")"
      ],
      "metadata": {
        "id": "XYcxk5M5ot4m",
        "outputId": "620b994c-b01a-438a-883d-8069299462b5",
        "colab": {
          "base_uri": "https://localhost:8080/"
        }
      },
      "execution_count": null,
      "outputs": [
        {
          "output_type": "stream",
          "name": "stdout",
          "text": [
            "Processing kelsic - Round1\n",
            "Embeddings loaded: (1369, 1280)\n",
            "Loaded experimental data for kelsic_Round1.xlsx: (12, 3)\n",
            "iteration shape: (12, 2)\n",
            "Labels shape: (1369, 5)\n",
            "Embeddings and labels are aligned\n",
            "(1357,)\n",
            "\n",
            "Tested variants in this round: 12\n",
            "93      D61W\n",
            "161      E4M\n",
            "170      E4Y\n",
            "288     G38E\n",
            "382     I36D\n",
            "456      I7A\n",
            "498      K3F\n",
            "886     Q10P\n",
            "901     R23K\n",
            "904     R23N\n",
            "1181    T58E\n",
            "1236    V31C\n",
            "Name: variant, dtype: object\n",
            "\n",
            "Top 12 variants predicted by the model:\n",
            "     variant    y_pred  y_actual  y_actual_scaled  y_actual_binary  \\\n",
            "168      E4V  0.943675       NaN              NaN              NaN   \n",
            "343     H30C  0.943463       NaN              NaN              NaN   \n",
            "58       D5C  0.942770       NaN              NaN              NaN   \n",
            "1255    V32C  0.941545       NaN              NaN              NaN   \n",
            "191      E8C  0.940377       NaN              NaN              NaN   \n",
            "1245    V31M  0.938028       NaN              NaN              NaN   \n",
            "164      E4Q  0.937777       NaN              NaN              NaN   \n",
            "162      E4N  0.937007       NaN              NaN              NaN   \n",
            "160      E4L  0.935375       NaN              NaN              NaN   \n",
            "62       D5H  0.934918       NaN              NaN              NaN   \n",
            "59       D5E  0.933458       NaN              NaN              NaN   \n",
            "152      E4A  0.932957       NaN              NaN              NaN   \n",
            "\n",
            "     dist_metric  std_predictions  \n",
            "168         None              0.0  \n",
            "343         None              0.0  \n",
            "58          None              0.0  \n",
            "1255        None              0.0  \n",
            "191         None              0.0  \n",
            "1245        None              0.0  \n",
            "164         None              0.0  \n",
            "162         None              0.0  \n",
            "160         None              0.0  \n",
            "62          None              0.0  \n",
            "59          None              0.0  \n",
            "152         None              0.0  \n",
            "\n",
            "Data saved to /content/output/kelsic/Round1\n"
          ]
        },
        {
          "output_type": "stream",
          "name": "stderr",
          "text": [
            "/content/EvolvePro/evolvepro/src/model.py:303: FutureWarning: The behavior of DataFrame concatenation with empty or all-NA entries is deprecated. In a future version, this will no longer exclude empty or all-NA columns when determining the result dtypes. To retain the old behavior, exclude the relevant entries before the concat operation.\n",
            "  df_all = pd.concat([df_train, df_test])\n"
          ]
        }
      ]
    },
    {
      "cell_type": "markdown",
      "source": [
        "#### Round 2"
      ],
      "metadata": {
        "id": "hp1LcEwY1nrS"
      }
    },
    {
      "cell_type": "code",
      "source": [
        "round_name = 'Round2'\n",
        "round_file_names = ['kelsic_Round1.xlsx', 'kelsic_Round2.xlsx']\n",
        "\n",
        "this_round_variants, df_test, df_sorted_all = evolve_experimental(\n",
        "    protein_name,\n",
        "    round_name,\n",
        "    embeddings_base_path,\n",
        "    embeddings_file_name,\n",
        "    round_base_path,\n",
        "    round_file_names,\n",
        "    wt_fasta_path,\n",
        "    rename_WT,\n",
        "    number_of_variants,\n",
        "    output_dir\n",
        ")"
      ],
      "metadata": {
        "id": "twLZxKaOyj4X",
        "outputId": "5233f5b4-02da-423a-957d-8484287193a0",
        "colab": {
          "base_uri": "https://localhost:8080/"
        }
      },
      "execution_count": null,
      "outputs": [
        {
          "output_type": "stream",
          "name": "stdout",
          "text": [
            "Processing kelsic - Round2\n",
            "Embeddings loaded: (1369, 1280)\n",
            "Loaded experimental data for kelsic_Round1.xlsx: (12, 3)\n",
            "Loaded experimental data for kelsic_Round2.xlsx: (12, 3)\n",
            "iteration shape: (24, 2)\n",
            "Labels shape: (1369, 5)\n",
            "Embeddings and labels are aligned\n",
            "(1345,)\n",
            "\n",
            "Tested variants in this round: 24\n",
            "66       D5M\n",
            "93      D61W\n",
            "155      E4F\n",
            "157      E4H\n",
            "160      E4L\n",
            "161      E4M\n",
            "162      E4N\n",
            "164      E4Q\n",
            "168      E4V\n",
            "170      E4Y\n",
            "191      E8C\n",
            "202      E8Q\n",
            "288     G38E\n",
            "382     I36D\n",
            "456      I7A\n",
            "498      K3F\n",
            "886     Q10P\n",
            "901     R23K\n",
            "904     R23N\n",
            "1046    S71C\n",
            "1065    T12C\n",
            "1074    T12M\n",
            "1181    T58E\n",
            "1236    V31C\n",
            "Name: variant, dtype: object\n",
            "\n",
            "Top 12 variants predicted by the model:\n",
            "     variant    y_pred  y_actual  y_actual_scaled  y_actual_binary  \\\n",
            "169      E4W  0.999147       NaN              NaN              NaN   \n",
            "158      E4I  0.977725       NaN              NaN              NaN   \n",
            "701      M1W  0.976712       NaN              NaN              NaN   \n",
            "1242    V31I  0.975030       NaN              NaN              NaN   \n",
            "60       D5F  0.973963       NaN              NaN              NaN   \n",
            "126     E25Q  0.973657       NaN              NaN              NaN   \n",
            "1041    S63T  0.971690       NaN              NaN              NaN   \n",
            "690      M1H  0.971250       NaN              NaN              NaN   \n",
            "885     Q10N  0.971090       NaN              NaN              NaN   \n",
            "1261    V32I  0.971015       NaN              NaN              NaN   \n",
            "63       D5I  0.970822       NaN              NaN              NaN   \n",
            "1318    V68I  0.970480       NaN              NaN              NaN   \n",
            "\n",
            "     dist_metric  std_predictions  \n",
            "169         None              0.0  \n",
            "158         None              0.0  \n",
            "701         None              0.0  \n",
            "1242        None              0.0  \n",
            "60          None              0.0  \n",
            "126         None              0.0  \n",
            "1041        None              0.0  \n",
            "690         None              0.0  \n",
            "885         None              0.0  \n",
            "1261        None              0.0  \n",
            "63          None              0.0  \n",
            "1318        None              0.0  \n",
            "\n",
            "Data saved to /content/output/kelsic/Round2\n"
          ]
        },
        {
          "output_type": "stream",
          "name": "stderr",
          "text": [
            "/content/EvolvePro/evolvepro/src/model.py:303: FutureWarning: The behavior of DataFrame concatenation with empty or all-NA entries is deprecated. In a future version, this will no longer exclude empty or all-NA columns when determining the result dtypes. To retain the old behavior, exclude the relevant entries before the concat operation.\n",
            "  df_all = pd.concat([df_train, df_test])\n"
          ]
        }
      ]
    },
    {
      "cell_type": "markdown",
      "source": [
        "#### Round 3"
      ],
      "metadata": {
        "id": "B4EPm84C1pS8"
      }
    },
    {
      "cell_type": "code",
      "source": [
        "round_name = 'Round3'\n",
        "round_file_names = ['kelsic_Round1.xlsx', 'kelsic_Round2.xlsx', 'kelsic_Round3.xlsx']\n",
        "\n",
        "this_round_variants, df_test, df_sorted_all = evolve_experimental(\n",
        "    protein_name,\n",
        "    round_name,\n",
        "    embeddings_base_path,\n",
        "    embeddings_file_name,\n",
        "    round_base_path,\n",
        "    round_file_names,\n",
        "    wt_fasta_path,\n",
        "    rename_WT,\n",
        "    number_of_variants,\n",
        "    output_dir\n",
        ")"
      ],
      "metadata": {
        "id": "kz5fPRMJy7Dk",
        "outputId": "a21f5651-51f0-4c70-efb3-1686f0f1f920",
        "colab": {
          "base_uri": "https://localhost:8080/"
        }
      },
      "execution_count": null,
      "outputs": [
        {
          "output_type": "stream",
          "name": "stdout",
          "text": [
            "Processing kelsic - Round3\n",
            "Embeddings loaded: (1369, 1280)\n",
            "Loaded experimental data for kelsic_Round1.xlsx: (12, 3)\n",
            "Loaded experimental data for kelsic_Round2.xlsx: (12, 3)\n",
            "Loaded experimental data for kelsic_Round3.xlsx: (12, 3)\n",
            "iteration shape: (36, 2)\n",
            "Labels shape: (1369, 5)\n",
            "Embeddings and labels are aligned\n",
            "(1333,)\n",
            "\n",
            "Tested variants in this round: 36\n",
            "58       D5C\n",
            "60       D5F\n",
            "63       D5I\n",
            "65       D5L\n",
            "66       D5M\n",
            "67       D5N\n",
            "73       D5V\n",
            "75       D5Y\n",
            "93      D61W\n",
            "126     E25Q\n",
            "153      E4C\n",
            "155      E4F\n",
            "157      E4H\n",
            "158      E4I\n",
            "160      E4L\n",
            "161      E4M\n",
            "162      E4N\n",
            "164      E4Q\n",
            "168      E4V\n",
            "169      E4W\n",
            "170      E4Y\n",
            "191      E8C\n",
            "202      E8Q\n",
            "288     G38E\n",
            "382     I36D\n",
            "456      I7A\n",
            "498      K3F\n",
            "701      M1W\n",
            "886     Q10P\n",
            "901     R23K\n",
            "904     R23N\n",
            "1046    S71C\n",
            "1065    T12C\n",
            "1074    T12M\n",
            "1181    T58E\n",
            "1236    V31C\n",
            "Name: variant, dtype: object\n",
            "\n",
            "Top 12 variants predicted by the model:\n",
            "    variant    y_pred  y_actual  y_actual_scaled  y_actual_binary dist_metric  \\\n",
            "72      D5T  1.004481       NaN              NaN              NaN        None   \n",
            "62      D5H  1.003364       NaN              NaN              NaN        None   \n",
            "71      D5S  1.000768       NaN              NaN              NaN        None   \n",
            "69      D5Q  0.979733       NaN              NaN              NaN        None   \n",
            "197     E8K  0.979156       NaN              NaN              NaN        None   \n",
            "57      D5A  0.974487       NaN              NaN              NaN        None   \n",
            "74      D5W  0.971464       NaN              NaN              NaN        None   \n",
            "166     E4S  0.960430       NaN              NaN              NaN        None   \n",
            "712    M21L  0.957840       NaN              NaN              NaN        None   \n",
            "195     E8H  0.955199       NaN              NaN              NaN        None   \n",
            "142    E27M  0.954607       NaN              NaN              NaN        None   \n",
            "143    E27N  0.954158       NaN              NaN              NaN        None   \n",
            "\n",
            "     std_predictions  \n",
            "72               0.0  \n",
            "62               0.0  \n",
            "71               0.0  \n",
            "69               0.0  \n",
            "197              0.0  \n",
            "57               0.0  \n",
            "74               0.0  \n",
            "166              0.0  \n",
            "712              0.0  \n",
            "195              0.0  \n",
            "142              0.0  \n",
            "143              0.0  \n",
            "\n",
            "Data saved to /content/output/kelsic/Round3\n"
          ]
        },
        {
          "output_type": "stream",
          "name": "stderr",
          "text": [
            "/content/EvolvePro/evolvepro/src/model.py:303: FutureWarning: The behavior of DataFrame concatenation with empty or all-NA entries is deprecated. In a future version, this will no longer exclude empty or all-NA columns when determining the result dtypes. To retain the old behavior, exclude the relevant entries before the concat operation.\n",
            "  df_all = pd.concat([df_train, df_test])\n"
          ]
        }
      ]
    },
    {
      "cell_type": "markdown",
      "source": [
        "#### Round 4"
      ],
      "metadata": {
        "id": "uzKvCWGX1qxB"
      }
    },
    {
      "cell_type": "code",
      "source": [
        "round_name = 'Round4'\n",
        "round_file_names = ['kelsic_Round1.xlsx', 'kelsic_Round2.xlsx', 'kelsic_Round3.xlsx', 'kelsic_Round4.xlsx']\n",
        "\n",
        "this_round_variants, df_test, df_sorted_all = evolve_experimental(\n",
        "    protein_name,\n",
        "    round_name,\n",
        "    embeddings_base_path,\n",
        "    embeddings_file_name,\n",
        "    round_base_path,\n",
        "    round_file_names,\n",
        "    wt_fasta_path,\n",
        "    rename_WT,\n",
        "    number_of_variants,\n",
        "    output_dir\n",
        ")"
      ],
      "metadata": {
        "id": "w8zWK7IlzOwB",
        "outputId": "30d50c71-a4d7-465c-8bef-dc076f3272c4",
        "colab": {
          "base_uri": "https://localhost:8080/"
        }
      },
      "execution_count": null,
      "outputs": [
        {
          "output_type": "stream",
          "name": "stdout",
          "text": [
            "Processing kelsic - Round4\n",
            "Embeddings loaded: (1369, 1280)\n",
            "Loaded experimental data for kelsic_Round1.xlsx: (12, 3)\n",
            "Loaded experimental data for kelsic_Round2.xlsx: (12, 3)\n",
            "Loaded experimental data for kelsic_Round3.xlsx: (12, 3)\n",
            "Loaded experimental data for kelsic_Round4.xlsx: (12, 3)\n",
            "iteration shape: (48, 2)\n",
            "Labels shape: (1369, 5)\n",
            "Embeddings and labels are aligned\n",
            "(1321,)\n",
            "\n",
            "Tested variants in this round: 48\n",
            "57       D5A\n",
            "58       D5C\n",
            "60       D5F\n",
            "62       D5H\n",
            "63       D5I\n",
            "65       D5L\n",
            "66       D5M\n",
            "67       D5N\n",
            "69       D5Q\n",
            "71       D5S\n",
            "72       D5T\n",
            "73       D5V\n",
            "75       D5Y\n",
            "93      D61W\n",
            "126     E25Q\n",
            "134     E27C\n",
            "141     E27L\n",
            "142     E27M\n",
            "145     E27Q\n",
            "153      E4C\n",
            "155      E4F\n",
            "157      E4H\n",
            "158      E4I\n",
            "160      E4L\n",
            "161      E4M\n",
            "162      E4N\n",
            "164      E4Q\n",
            "167      E4T\n",
            "168      E4V\n",
            "169      E4W\n",
            "170      E4Y\n",
            "191      E8C\n",
            "202      E8Q\n",
            "288     G38E\n",
            "382     I36D\n",
            "456      I7A\n",
            "498      K3F\n",
            "701      M1W\n",
            "712     M21L\n",
            "886     Q10P\n",
            "901     R23K\n",
            "904     R23N\n",
            "1046    S71C\n",
            "1065    T12C\n",
            "1074    T12M\n",
            "1181    T58E\n",
            "1223    V24I\n",
            "1236    V31C\n",
            "Name: variant, dtype: object\n",
            "\n",
            "Top 12 variants predicted by the model:\n",
            "     variant    y_pred  y_actual  y_actual_scaled  y_actual_binary  \\\n",
            "166      E4S  0.972671       NaN              NaN              NaN   \n",
            "163      E4P  0.964512       NaN              NaN              NaN   \n",
            "68       D5P  0.962689       NaN              NaN              NaN   \n",
            "64       D5K  0.958724       NaN              NaN              NaN   \n",
            "159      E4K  0.957646       NaN              NaN              NaN   \n",
            "152      E4A  0.955673       NaN              NaN              NaN   \n",
            "70       D5R  0.951787       NaN              NaN              NaN   \n",
            "880     Q10H  0.950792       NaN              NaN              NaN   \n",
            "1175    T54V  0.949979       NaN              NaN              NaN   \n",
            "195      E8H  0.947658       NaN              NaN              NaN   \n",
            "1080    T12V  0.946579       NaN              NaN              NaN   \n",
            "1113    T20N  0.937882       NaN              NaN              NaN   \n",
            "\n",
            "     dist_metric  std_predictions  \n",
            "166         None              0.0  \n",
            "163         None              0.0  \n",
            "68          None              0.0  \n",
            "64          None              0.0  \n",
            "159         None              0.0  \n",
            "152         None              0.0  \n",
            "70          None              0.0  \n",
            "880         None              0.0  \n",
            "1175        None              0.0  \n",
            "195         None              0.0  \n",
            "1080        None              0.0  \n",
            "1113        None              0.0  \n",
            "\n",
            "Data saved to /content/output/kelsic/Round4\n"
          ]
        },
        {
          "output_type": "stream",
          "name": "stderr",
          "text": [
            "/content/EvolvePro/evolvepro/src/model.py:303: FutureWarning: The behavior of DataFrame concatenation with empty or all-NA entries is deprecated. In a future version, this will no longer exclude empty or all-NA columns when determining the result dtypes. To retain the old behavior, exclude the relevant entries before the concat operation.\n",
            "  df_all = pd.concat([df_train, df_test])\n"
          ]
        }
      ]
    },
    {
      "cell_type": "markdown",
      "source": [
        "#### Round 5"
      ],
      "metadata": {
        "id": "qDPcYiLY1tZl"
      }
    },
    {
      "cell_type": "code",
      "source": [
        "round_name = 'Round5'\n",
        "round_file_names = ['kelsic_Round1.xlsx', 'kelsic_Round2.xlsx', 'kelsic_Round3.xlsx', 'kelsic_Round4.xlsx', 'kelsic_Round5.xlsx']\n",
        "\n",
        "this_round_variants, df_test, df_sorted_all = evolve_experimental(\n",
        "    protein_name,\n",
        "    round_name,\n",
        "    embeddings_base_path,\n",
        "    embeddings_file_name,\n",
        "    round_base_path,\n",
        "    round_file_names,\n",
        "    wt_fasta_path,\n",
        "    rename_WT,\n",
        "    number_of_variants,\n",
        "    output_dir\n",
        ")"
      ],
      "metadata": {
        "id": "nruFZ5a4ziFl",
        "outputId": "be6a91b4-ad06-4854-fbec-09aa5264240f",
        "colab": {
          "base_uri": "https://localhost:8080/"
        }
      },
      "execution_count": null,
      "outputs": [
        {
          "output_type": "stream",
          "name": "stdout",
          "text": [
            "Processing kelsic - Round5\n",
            "Embeddings loaded: (1369, 1280)\n",
            "Loaded experimental data for kelsic_Round1.xlsx: (12, 3)\n",
            "Loaded experimental data for kelsic_Round2.xlsx: (12, 3)\n",
            "Loaded experimental data for kelsic_Round3.xlsx: (12, 3)\n",
            "Loaded experimental data for kelsic_Round4.xlsx: (12, 3)\n",
            "Loaded experimental data for kelsic_Round5.xlsx: (12, 3)\n",
            "iteration shape: (60, 2)\n",
            "Labels shape: (1369, 5)\n",
            "Embeddings and labels are aligned\n",
            "(1309,)\n",
            "\n",
            "Tested variants in this round: 60\n",
            "57       D5A\n",
            "58       D5C\n",
            "60       D5F\n",
            "62       D5H\n",
            "63       D5I\n",
            "65       D5L\n",
            "66       D5M\n",
            "67       D5N\n",
            "68       D5P\n",
            "69       D5Q\n",
            "71       D5S\n",
            "72       D5T\n",
            "73       D5V\n",
            "74       D5W\n",
            "75       D5Y\n",
            "93      D61W\n",
            "126     E25Q\n",
            "134     E27C\n",
            "141     E27L\n",
            "142     E27M\n",
            "145     E27Q\n",
            "152      E4A\n",
            "153      E4C\n",
            "155      E4F\n",
            "157      E4H\n",
            "158      E4I\n",
            "160      E4L\n",
            "161      E4M\n",
            "162      E4N\n",
            "163      E4P\n",
            "164      E4Q\n",
            "166      E4S\n",
            "167      E4T\n",
            "168      E4V\n",
            "169      E4W\n",
            "170      E4Y\n",
            "191      E8C\n",
            "193      E8F\n",
            "195      E8H\n",
            "197      E8K\n",
            "202      E8Q\n",
            "288     G38E\n",
            "382     I36D\n",
            "456      I7A\n",
            "498      K3F\n",
            "701      M1W\n",
            "712     M21L\n",
            "880     Q10H\n",
            "886     Q10P\n",
            "901     R23K\n",
            "904     R23N\n",
            "1046    S71C\n",
            "1053    S71K\n",
            "1065    T12C\n",
            "1074    T12M\n",
            "1108    T20H\n",
            "1181    T58E\n",
            "1223    V24I\n",
            "1236    V31C\n",
            "1299    V55I\n",
            "Name: variant, dtype: object\n",
            "\n",
            "Top 12 variants predicted by the model:\n",
            "     variant    y_pred  y_actual  y_actual_scaled  y_actual_binary  \\\n",
            "64       D5K  0.963858       NaN              NaN              NaN   \n",
            "159      E4K  0.961716       NaN              NaN              NaN   \n",
            "1113    T20N  0.950211       NaN              NaN              NaN   \n",
            "19      A34C  0.949916       NaN              NaN              NaN   \n",
            "1116    T20R  0.949003       NaN              NaN              NaN   \n",
            "59       D5E  0.946884       NaN              NaN              NaN   \n",
            "200      E8N  0.942425       NaN              NaN              NaN   \n",
            "1103    T20C  0.942415       NaN              NaN              NaN   \n",
            "70       D5R  0.941015       NaN              NaN              NaN   \n",
            "165      E4R  0.939625       NaN              NaN              NaN   \n",
            "1117    T20S  0.938791       NaN              NaN              NaN   \n",
            "1110    T20K  0.937656       NaN              NaN              NaN   \n",
            "\n",
            "     dist_metric  std_predictions  \n",
            "64          None              0.0  \n",
            "159         None              0.0  \n",
            "1113        None              0.0  \n",
            "19          None              0.0  \n",
            "1116        None              0.0  \n",
            "59          None              0.0  \n",
            "200         None              0.0  \n",
            "1103        None              0.0  \n",
            "70          None              0.0  \n",
            "165         None              0.0  \n",
            "1117        None              0.0  \n",
            "1110        None              0.0  \n",
            "\n",
            "Data saved to /content/output/kelsic/Round5\n"
          ]
        },
        {
          "output_type": "stream",
          "name": "stderr",
          "text": [
            "/content/EvolvePro/evolvepro/src/model.py:303: FutureWarning: The behavior of DataFrame concatenation with empty or all-NA entries is deprecated. In a future version, this will no longer exclude empty or all-NA columns when determining the result dtypes. To retain the old behavior, exclude the relevant entries before the concat operation.\n",
            "  df_all = pd.concat([df_train, df_test])\n"
          ]
        }
      ]
    },
    {
      "cell_type": "markdown",
      "source": [
        "## Round6\n",
        "\n"
      ],
      "metadata": {
        "id": "xMUVc2mKGxAM"
      }
    },
    {
      "cell_type": "code",
      "source": [
        "from evolvepro.src.process import (\n",
        "    generate_wt,\n",
        "    generate_single_aa_mutants,\n",
        "    generate_n_mutant_combinations,\n",
        ")\n",
        "generate_n_mutant_combinations(wt_fasta_path,'/content/EvolvePro/colab/rounds_data/kelsic_Round1.xlsx',n=2,output_file='/content/output/kelsic_2nd.fasta',threshold=0.95)\n",
        "generate_n_mutant_combinations(wt_fasta_path,'/content/EvolvePro/colab/rounds_data/kelsic_Round5.xlsx',n=2,output_file='/content/output/kelsic_3nd.fasta',threshold=0.96)"
      ],
      "metadata": {
        "id": "x2BUjQJtBPO7",
        "outputId": "57f950de-865e-4294-f6a5-7abe7a6c011b",
        "colab": {
          "base_uri": "https://localhost:8080/"
        }
      },
      "execution_count": null,
      "outputs": [
        {
          "output_type": "stream",
          "name": "stdout",
          "text": [
            "Number of mutant combinations: 6\n",
            "Number of valid mutant combinations: 6\n",
            "Number of mutant combinations: 3\n",
            "Number of valid mutant combinations: 4\n"
          ]
        }
      ]
    },
    {
      "cell_type": "code",
      "source": [
        "!python evolvepro/plm/esm/extract.py esm1b_t33_650M_UR50S /content/output/kelsic_2nd.fasta /content/output/kelsic_2nd_esm1b_t33_650M_UR50S --toks_per_batch 512 --include mean --concatenate_dir /content/output"
      ],
      "metadata": {
        "id": "mb49uQSoIYeV",
        "outputId": "11cfd78b-9dc0-44d1-a279-74e3d1d23035",
        "colab": {
          "base_uri": "https://localhost:8080/"
        }
      },
      "execution_count": null,
      "outputs": [
        {
          "output_type": "stream",
          "name": "stdout",
          "text": [
            "Read /content/output/kelsic_2nd.fasta with 6 sequences\n",
            "Processing 1 of 1 batches (6 sequences)\n",
            "Device: cpu\n",
            "Saved representations to /content/output/kelsic_2nd_esm1b_t33_650M_UR50S\n",
            "Shape of concatenated DataFrame: (6, 1280)\n",
            "Saved concatenated representations to /content/output/kelsic_2nd_esm1b_t33_650M_UR50S.csv\n"
          ]
        }
      ]
    },
    {
      "cell_type": "code",
      "source": [
        "!python evolvepro/plm/esm/extract.py esm1b_t33_650M_UR50S /content/output/kelsic_3nd.fasta /content/output/kelsic_3nd_esm1b_t33_650M_UR50S --toks_per_batch 512 --include mean --concatenate_dir /content/output"
      ],
      "metadata": {
        "id": "RLoj1EwyKmWE",
        "outputId": "ae42b45b-88b2-402c-bcdb-1799d706422d",
        "colab": {
          "base_uri": "https://localhost:8080/"
        }
      },
      "execution_count": null,
      "outputs": [
        {
          "output_type": "stream",
          "name": "stdout",
          "text": [
            "Read /content/output/kelsic_3nd.fasta with 4 sequences\n",
            "Processing 1 of 1 batches (4 sequences)\n",
            "Device: cpu\n",
            "Saved representations to /content/output/kelsic_3nd_esm1b_t33_650M_UR50S\n",
            "Shape of concatenated DataFrame: (4, 1280)\n",
            "Saved concatenated representations to /content/output/kelsic_3nd_esm1b_t33_650M_UR50S.csv\n"
          ]
        }
      ]
    },
    {
      "cell_type": "code",
      "source": [
        "from evolvepro.src.evolve import evolve_experimental_multi\n",
        "embeddings_file_name_2nd = 'kelsic_2nd_esm1b_t33_650M_UR50S.csv'\n",
        "embeddings_file_name_3rd = 'kelsic_3nd_esm1b_t33_650M_UR50S.csv'\n",
        "rename_WT = False\n",
        "round_name = 'Round6'\n",
        "round_file_names_single = ['kelsic_Round1.xlsx', 'kelsic_Round2.xlsx', 'kelsic_Round3.xlsx', 'kelsic_Round4.xlsx','kelsic_Round5.xlsx']\n",
        "round_file_names_multi = ['kelsic_Round5.xlsx']\n",
        "\n",
        "this_round_variants, df_test, df_sorted_all = evolve_experimental_multi(\n",
        "    protein_name,\n",
        "    round_name,\n",
        "    embeddings_base_path,\n",
        "    [embeddings_file_name, embeddings_file_name_2nd,embeddings_file_name_3rd],\n",
        "    round_base_path,\n",
        "    round_file_names_single,\n",
        "    round_file_names_multi,\n",
        "    wt_fasta_path,\n",
        "    rename_WT,\n",
        "    number_of_variants,\n",
        "    output_dir\n",
        ")"
      ],
      "metadata": {
        "colab": {
          "base_uri": "https://localhost:8080/"
        },
        "id": "dfecauYWyPl8",
        "outputId": "0663f624-f2b0-4943-d549-dc4b1e70ca6c"
      },
      "execution_count": null,
      "outputs": [
        {
          "output_type": "stream",
          "name": "stdout",
          "text": [
            "Processing kelsic - Round6\n",
            "Embeddings loaded: (1377, 1280)\n",
            "Loaded experimental data for kelsic_Round1.xlsx: (12, 3)\n",
            "Loaded experimental data for kelsic_Round2.xlsx: (12, 3)\n",
            "Loaded experimental data for kelsic_Round3.xlsx: (12, 3)\n",
            "Loaded experimental data for kelsic_Round4.xlsx: (12, 3)\n",
            "Loaded experimental data for kelsic_Round5.xlsx: (12, 3)\n",
            "Loaded experimental data for kelsic_Round5.xlsx: (12, 2)\n",
            "Embeddings and labels are aligned\n",
            "(1317,)\n",
            "\n",
            "Tested variants in this round: 60\n",
            "57       D5A\n",
            "58       D5C\n",
            "60       D5F\n",
            "62       D5H\n",
            "63       D5I\n",
            "65       D5L\n",
            "66       D5M\n",
            "67       D5N\n",
            "68       D5P\n",
            "69       D5Q\n",
            "71       D5S\n",
            "72       D5T\n",
            "73       D5V\n",
            "74       D5W\n",
            "75       D5Y\n",
            "93      D61W\n",
            "126     E25Q\n",
            "134     E27C\n",
            "141     E27L\n",
            "142     E27M\n",
            "145     E27Q\n",
            "152      E4A\n",
            "153      E4C\n",
            "155      E4F\n",
            "157      E4H\n",
            "158      E4I\n",
            "160      E4L\n",
            "161      E4M\n",
            "162      E4N\n",
            "163      E4P\n",
            "164      E4Q\n",
            "166      E4S\n",
            "167      E4T\n",
            "168      E4V\n",
            "169      E4W\n",
            "170      E4Y\n",
            "191      E8C\n",
            "193      E8F\n",
            "195      E8H\n",
            "197      E8K\n",
            "202      E8Q\n",
            "288     G38E\n",
            "382     I36D\n",
            "456      I7A\n",
            "498      K3F\n",
            "701      M1W\n",
            "712     M21L\n",
            "880     Q10H\n",
            "886     Q10P\n",
            "901     R23K\n",
            "904     R23N\n",
            "1046    S71C\n",
            "1053    S71K\n",
            "1065    T12C\n",
            "1074    T12M\n",
            "1108    T20H\n",
            "1181    T58E\n",
            "1223    V24I\n",
            "1236    V31C\n",
            "1299    V55I\n",
            "Name: variant, dtype: object\n",
            "\n",
            "Top 12 variants predicted by the model:\n",
            "       variant    y_pred\n",
            "1371  E4Y_R23K  0.977956\n",
            "1369  E4M_R23K  0.968180\n",
            "64         D5K  0.963858\n",
            "159        E4K  0.961716\n",
            "1113      T20N  0.950211\n",
            "19        A34C  0.949916\n",
            "1116      T20R  0.949003\n",
            "59         D5E  0.946884\n",
            "200        E8N  0.942425\n",
            "1103      T20C  0.942415\n",
            "70         D5R  0.941015\n",
            "165        E4R  0.939625\n",
            "\n",
            "Data saved to /content/output/kelsic/Round6\n"
          ]
        },
        {
          "output_type": "stream",
          "name": "stderr",
          "text": [
            "/content/EvolvePro/evolvepro/src/model.py:303: FutureWarning: The behavior of DataFrame concatenation with empty or all-NA entries is deprecated. In a future version, this will no longer exclude empty or all-NA columns when determining the result dtypes. To retain the old behavior, exclude the relevant entries before the concat operation.\n",
            "  df_all = pd.concat([df_train, df_test])\n"
          ]
        }
      ]
    },
    {
      "cell_type": "markdown",
      "source": [
        "## Plot"
      ],
      "metadata": {
        "id": "g0YzCWOL1xdF"
      }
    },
    {
      "cell_type": "code",
      "source": [
        "from evolvepro.src.plot import read_exp_data, plot_variants_by_iteration\n",
        "\n",
        "round_base_path = '/content/EvolvePro/colab/rounds_data'\n",
        "round_file_names = ['kelsic_Round1.xlsx', 'kelsic_Round2.xlsx', 'kelsic_Round3.xlsx', 'kelsic_Round4.xlsx', 'kelsic_Round5.xlsx']\n",
        "wt_fasta_path = \"/content/output/kelsic_WT.fasta\""
      ],
      "metadata": {
        "id": "46D0aZra2ffS"
      },
      "execution_count": null,
      "outputs": []
    },
    {
      "cell_type": "code",
      "source": [
        "df = read_exp_data(round_base_path, round_file_names, wt_fasta_path)\n",
        "plot_variants_by_iteration(df, activity_column='activity', output_dir=output_dir, output_file=\"kelsic\")\n"
      ],
      "metadata": {
        "id": "KyYpI7pr2a1i",
        "outputId": "6821a73c-b68b-4696-b7d1-20670b3a8db6",
        "colab": {
          "base_uri": "https://localhost:8080/",
          "height": 381
        }
      },
      "execution_count": null,
      "outputs": [
        {
          "output_type": "display_data",
          "data": {
            "text/plain": [
              "<Figure size 1200x600 with 1 Axes>"
            ],
            "image/png": "[encoded data removed]"
          },
          "metadata": {}
        }
      ]
    }
  ]
}